{
 "cells": [
  {
   "cell_type": "markdown",
   "metadata": {},
   "source": [
    "<div class=\"alert alert-block alert-danger\">\n",
    "    <b>PYTHON3 AT A GLANCE:</b> <br> A quick introduction to scientific Python programming.<br> <em>-- Sam Sirmaxford</em>\n",
    "</div>"
   ]
  },
  {
   "cell_type": "markdown",
   "metadata": {},
   "source": [
    "### Contents:\n",
    "* [1. Basic maths in Python](#topic1)\n",
    "    * Addition and Subtraction\n",
    "    * Multiplication and Division\n",
    "    * Modulo\n",
    "    * Power\n",
    "    * Operator Precedence\n",
    "    * Assignement Operators\n",
    "    * Python Math Library\n",
    "* [2. Python Functions](#topic2)\n",
    "    * Built-in Functions\n",
    "    * Making Functions\n",
    "* [3. Python Iteratives](#topic3)\n",
    "    * Loops\n",
    "    * Containers and Sequences\n",
    "    * Control Flows\n",
    "* [4. Expanding Python](#topic4)\n",
    "    * Built-in Modules\n",
    "    * Numpy\n",
    "    * Matplotlib\n",
    "* [5. References](#topic5)"
   ]
  },
  {
   "cell_type": "markdown",
   "metadata": {},
   "source": [
    "### Basic Maths in Python <a class=\"anchor\" id=\"topic1\"></a>\n",
    "`Addition and Subtraction | Multiplication and Division | Modulo | Power | Operator Precedence | Assignement Operators | Python Math Library`"
   ]
  },
  {
   "cell_type": "markdown",
   "metadata": {},
   "source": [
    "`* Addition and Subtraction`"
   ]
  },
  {
   "cell_type": "code",
   "execution_count": 1,
   "metadata": {},
   "outputs": [
    {
     "name": "stdout",
     "output_type": "stream",
     "text": [
      "6\n"
     ]
    }
   ],
   "source": [
    "# Starting with integers:\n",
    "\n",
    "print(1 + 5)"
   ]
  },
  {
   "cell_type": "code",
   "execution_count": 2,
   "metadata": {},
   "outputs": [
    {
     "name": "stdout",
     "output_type": "stream",
     "text": [
      "190\n"
     ]
    }
   ],
   "source": [
    "# Initialize variables to stand for integer values:\n",
    "\n",
    "a = 87\n",
    "b = 103\n",
    "\n",
    "print(a + b)"
   ]
  },
  {
   "cell_type": "code",
   "execution_count": 3,
   "metadata": {},
   "outputs": [
    {
     "name": "stdout",
     "output_type": "stream",
     "text": [
      "-9\n"
     ]
    }
   ],
   "source": [
    "# Integers can be both positive and negative numbers:\n",
    "\n",
    "c = -36\n",
    "d = 27\n",
    "\n",
    "print(c + d)"
   ]
  },
  {
   "cell_type": "code",
   "execution_count": 4,
   "metadata": {},
   "outputs": [
    {
     "name": "stdout",
     "output_type": "stream",
     "text": [
      "8.0\n"
     ]
    }
   ],
   "source": [
    "# Addition will behave similarly with floats:\n",
    "\n",
    "e = 5.7\n",
    "f = 2.3\n",
    "\n",
    "print(e + f)"
   ]
  },
  {
   "cell_type": "code",
   "execution_count": 5,
   "metadata": {},
   "outputs": [
    {
     "name": "stdout",
     "output_type": "stream",
     "text": [
      "38.61\n"
     ]
    }
   ],
   "source": [
    "# The syntax for subtraction is the same as for addition:\n",
    "\n",
    "g = 75.61\n",
    "h = 37\n",
    "\n",
    "print(g - h)"
   ]
  },
  {
   "cell_type": "markdown",
   "metadata": {},
   "source": [
    "`* Multiplication and Division`"
   ]
  },
  {
   "cell_type": "code",
   "execution_count": 6,
   "metadata": {},
   "outputs": [
    {
     "name": "stdout",
     "output_type": "stream",
     "text": [
      "1071.07\n"
     ]
    }
   ],
   "source": [
    "# Doing multiplication in Python with two float values:\n",
    "\n",
    "k = 100.1\n",
    "l = 10.7\n",
    "\n",
    "print(k * l)"
   ]
  },
  {
   "cell_type": "code",
   "execution_count": 7,
   "metadata": {},
   "outputs": [
    {
     "name": "stdout",
     "output_type": "stream",
     "text": [
      "18.0\n"
     ]
    }
   ],
   "source": [
    "# When you divide in Python 3, your quotient will always be returned as a float, even if you use two integers:\n",
    "\n",
    "m = 90\n",
    "n = 5\n",
    "\n",
    "print(m / n)"
   ]
  },
  {
   "cell_type": "code",
   "execution_count": 8,
   "metadata": {},
   "outputs": [
    {
     "name": "stdout",
     "output_type": "stream",
     "text": [
      "2\n"
     ]
    }
   ],
   "source": [
    "#  Floor division:\n",
    "\n",
    "print(100 // 40)"
   ]
  },
  {
   "cell_type": "markdown",
   "metadata": {},
   "source": [
    "`* Modulo`"
   ]
  },
  {
   "cell_type": "code",
   "execution_count": 9,
   "metadata": {},
   "outputs": [
    {
     "name": "stdout",
     "output_type": "stream",
     "text": [
      "20\n"
     ]
    }
   ],
   "source": [
    "\"\"\"\n",
    "Modulo in action:\n",
    "The % operator is the modulo, which returns the remainder rather than the quotient after division.\n",
    "This is useful for finding divisibility of numbers.\n",
    "\"\"\"\n",
    "\n",
    "o = 95\n",
    "p = 25\n",
    "\n",
    "print(o % p)"
   ]
  },
  {
   "cell_type": "code",
   "execution_count": 10,
   "metadata": {},
   "outputs": [
    {
     "name": "stdout",
     "output_type": "stream",
     "text": [
      "20\n"
     ]
    }
   ],
   "source": [
    "# Floats with the modulo:\n",
    "\n",
    "q = 46.5\n",
    "r = 6.5\n",
    "\n",
    "print(o % p)"
   ]
  },
  {
   "cell_type": "markdown",
   "metadata": {},
   "source": [
    "`* Power`"
   ]
  },
  {
   "cell_type": "code",
   "execution_count": 11,
   "metadata": {},
   "outputs": [
    {
     "name": "stdout",
     "output_type": "stream",
     "text": [
      "142645.765625\n"
     ]
    }
   ],
   "source": [
    "s = 52.25\n",
    "t = 3\n",
    "\n",
    "print(s ** t)"
   ]
  },
  {
   "cell_type": "markdown",
   "metadata": {},
   "source": [
    "`* Operator Precedence`"
   ]
  },
  {
   "cell_type": "code",
   "execution_count": 12,
   "metadata": {},
   "outputs": [
    {
     "name": "stdout",
     "output_type": "stream",
     "text": [
      "60\n"
     ]
    }
   ],
   "source": [
    "u = 10 + 10 * 5\n",
    "print(u)"
   ]
  },
  {
   "cell_type": "code",
   "execution_count": 13,
   "metadata": {},
   "outputs": [
    {
     "name": "stdout",
     "output_type": "stream",
     "text": [
      "100\n"
     ]
    }
   ],
   "source": [
    "u = (10 + 10) * 5\n",
    "print(u)"
   ]
  },
  {
   "cell_type": "markdown",
   "metadata": {},
   "source": [
    "`* Assignment Operators (=)`"
   ]
  },
  {
   "cell_type": "code",
   "execution_count": 14,
   "metadata": {},
   "outputs": [
    {
     "name": "stdout",
     "output_type": "stream",
     "text": [
      "6\n"
     ]
    }
   ],
   "source": [
    "# I. e.g. a = 3\n",
    "# II. Compound assignment operators:\n",
    "\n",
    "w = 5\n",
    "w += 1\n",
    "print(w)"
   ]
  },
  {
   "cell_type": "markdown",
   "metadata": {},
   "source": [
    "`* Python Math Library`"
   ]
  },
  {
   "cell_type": "markdown",
   "metadata": {},
   "source": [
    "A `library` is a collection of `modules`, but the terms are often used interchangeably, especially since many libraries only consist of a single module, so don’t worry if you mix them.\n",
    "This math module is a standard module in Python and is always available. To use mathematical functions under this module, you have to import the module using `import math`. It gives access to the underlying C library functions."
   ]
  },
  {
   "cell_type": "code",
   "execution_count": 15,
   "metadata": {},
   "outputs": [],
   "source": [
    "import math as m"
   ]
  },
  {
   "cell_type": "markdown",
   "metadata": {},
   "source": [
    "List of functions in Python math module that you have just imported:"
   ]
  },
  {
   "cell_type": "markdown",
   "metadata": {},
   "source": [
    "| Function | Description |\n",
    "| :--- | :--- |\n",
    "| ceil(x) |\tReturns the smallest integer greater than or equal to x. |\n",
    "| copysign(x, y)\t| Returns x with the sign of y|\n",
    "| fabs(x)\t| Returns the absolute value of x |\n",
    "| factorial(x)\t| Returns the factorial of x |\n",
    "| floor(x)\t| Returns the largest integer less than or equal to x |\n",
    "| fmod(x, y)\t| Returns the remainder when x is divided by y |\n",
    "| frexp(x)\t| Returns the mantissa and exponent of x as the pair (m, e) |\n",
    "| fsum(iterable) |\tReturns an accurate floating point sum of values in the iterable |\n",
    "| isfinite(x) |\tReturns True if x is neither an infinity nor a NaN (Not a Number) |\n",
    "| isinf(x)\t| Returns True if x is a positive or negative infinity |\n",
    "| isnan(x)\t| Returns True if x is a NaN |\n",
    "| ldexp(x, i)\t| Returns $x \\times (2^i)$ |\n",
    "| modf(x) |\tReturns the fractional and integer parts of x |\n",
    "| trunc(x) |\tReturns the truncated integer value of x |\n",
    "| exp(x)\t| Returns $e^x$ |\n",
    "| expm1(x)\t| Returns $e^x - 1$ |\n",
    "| $log(x[, base])$ | Returns the logarithm of x to the base (defaults to e) |\n",
    "| log1p(x)\t| Returns the natural logarithm of 1+x |\n",
    "| log2(x)\t| Returns the base-2 logarithm of x |\n",
    "| log10(x)\t| Returns the base-10 logarithm of x |\n",
    "| pow(x, y)\t| Returns x raised to the power y |\n",
    "| sqrt(x)\t| Returns the square root of x |\n",
    "| acos(x)\t| Returns the arc cosine of x |\n",
    "| asin(x)\t| Returns the arc sine of x |\n",
    "| atan(x)\t| Returns the arc tangent of x |\n",
    "| atan2(y, x) |\tReturns atan(y / x) |\n",
    "| cos(x)\t| Returns the cosine of x |\n",
    "| hypot(x, y) |\tReturns the Euclidean norm, sqrt(x*x + y*y) |\n",
    "| sin(x)\t| Returns the sine of x |\n",
    "| tan(x)\t| Returns the tangent of x |\n",
    "| degrees(x)\t| Converts angle x from radians to degrees |\n",
    "| radians(x)\t| Converts angle x from degrees to radians |\n",
    "| acosh(x)\t| Returns the inverse hyperbolic cosine of x |\n",
    "| asinh(x)\t| Returns the inverse hyperbolic sine of x |\n",
    "| atanh(x)\t| Returns the inverse hyperbolic tangent of x |\n",
    "| cosh(x)\t| Returns the hyperbolic cosine of x |\n",
    "| sinh(x)\t| Returns the hyperbolic cosine of x |\n",
    "| tanh(x)\t| Returns the hyperbolic tangent of x |\n",
    "| erf(x)\t| Returns the error function at x |\n",
    "| erfc(x)\t| Returns the complementary error function at x |\n",
    "| gamma(x)\t| Returns the Gamma function at x |\n",
    "| lgamma(x)\t| Returns the natural logarithm of the absolute value of the Gamma function at x |\n",
    "| pi\t| Mathematical constant, the ratio of circumference of a circle to it's diameter (3.14159...) |\n",
    "| e\t| mathematical constant e (2.71828...) |\n",
    "| | https://docs.python.org/3/library/math.html |"
   ]
  },
  {
   "cell_type": "code",
   "execution_count": 16,
   "metadata": {},
   "outputs": [
    {
     "data": {
      "text/plain": [
       "3.141592653589793"
      ]
     },
     "execution_count": 16,
     "metadata": {},
     "output_type": "execute_result"
    }
   ],
   "source": [
    "m.pi # Pie"
   ]
  },
  {
   "cell_type": "code",
   "execution_count": 17,
   "metadata": {},
   "outputs": [
    {
     "data": {
      "text/plain": [
       "2.718281828459045"
      ]
     },
     "execution_count": 17,
     "metadata": {},
     "output_type": "execute_result"
    }
   ],
   "source": [
    "m.e # Euler's number"
   ]
  },
  {
   "cell_type": "code",
   "execution_count": 18,
   "metadata": {},
   "outputs": [
    {
     "data": {
      "text/plain": [
       "0.5235987755982988"
      ]
     },
     "execution_count": 18,
     "metadata": {},
     "output_type": "execute_result"
    }
   ],
   "source": [
    "m.radians(30)"
   ]
  },
  {
   "cell_type": "code",
   "execution_count": 19,
   "metadata": {},
   "outputs": [
    {
     "data": {
      "text/plain": [
       "6.0"
      ]
     },
     "execution_count": 19,
     "metadata": {},
     "output_type": "execute_result"
    }
   ],
   "source": [
    "m.degrees(m.pi/30)"
   ]
  },
  {
   "cell_type": "code",
   "execution_count": 20,
   "metadata": {},
   "outputs": [
    {
     "data": {
      "text/plain": [
       "0.8509035245341184"
      ]
     },
     "execution_count": 20,
     "metadata": {},
     "output_type": "execute_result"
    }
   ],
   "source": [
    "m.sin(45)"
   ]
  },
  {
   "cell_type": "code",
   "execution_count": 21,
   "metadata": {},
   "outputs": [
    {
     "data": {
      "text/plain": [
       "1.0"
      ]
     },
     "execution_count": 21,
     "metadata": {},
     "output_type": "execute_result"
    }
   ],
   "source": [
    "m.cos(0)"
   ]
  },
  {
   "cell_type": "code",
   "execution_count": 22,
   "metadata": {},
   "outputs": [
    {
     "data": {
      "text/plain": [
       "1.0"
      ]
     },
     "execution_count": 22,
     "metadata": {},
     "output_type": "execute_result"
    }
   ],
   "source": [
    "m.sin(51)**2 + m.cos(51)**2"
   ]
  },
  {
   "cell_type": "code",
   "execution_count": 23,
   "metadata": {},
   "outputs": [
    {
     "data": {
      "text/plain": [
       "2.302585092994046"
      ]
     },
     "execution_count": 23,
     "metadata": {},
     "output_type": "execute_result"
    }
   ],
   "source": [
    "m.log(10)"
   ]
  },
  {
   "cell_type": "code",
   "execution_count": 24,
   "metadata": {},
   "outputs": [
    {
     "data": {
      "text/plain": [
       "1.0"
      ]
     },
     "execution_count": 24,
     "metadata": {},
     "output_type": "execute_result"
    }
   ],
   "source": [
    "m.log10(10)"
   ]
  },
  {
   "cell_type": "code",
   "execution_count": 25,
   "metadata": {},
   "outputs": [
    {
     "data": {
      "text/plain": [
       "16.0"
      ]
     },
     "execution_count": 25,
     "metadata": {},
     "output_type": "execute_result"
    }
   ],
   "source": [
    "m.pow(2,4) # = 2**4"
   ]
  },
  {
   "cell_type": "code",
   "execution_count": 26,
   "metadata": {},
   "outputs": [
    {
     "data": {
      "text/plain": [
       "4.0"
      ]
     },
     "execution_count": 26,
     "metadata": {},
     "output_type": "execute_result"
    }
   ],
   "source": [
    "m.sqrt(16)"
   ]
  },
  {
   "cell_type": "code",
   "execution_count": 27,
   "metadata": {},
   "outputs": [
    {
     "data": {
      "text/plain": [
       "7"
      ]
     },
     "execution_count": 27,
     "metadata": {},
     "output_type": "execute_result"
    }
   ],
   "source": [
    "m.ceil(6.5877)"
   ]
  },
  {
   "cell_type": "code",
   "execution_count": 28,
   "metadata": {},
   "outputs": [
    {
     "data": {
      "text/plain": [
       "6"
      ]
     },
     "execution_count": 28,
     "metadata": {},
     "output_type": "execute_result"
    }
   ],
   "source": [
    "m.floor(6.5677)"
   ]
  },
  {
   "cell_type": "markdown",
   "metadata": {},
   "source": [
    "### Python Functions <a class=\"anchor\" id=\"topic2\"></a>\n",
    "`Built-in Functions | Making Functions`"
   ]
  },
  {
   "cell_type": "markdown",
   "metadata": {},
   "source": [
    "`1. Built-in Functions`"
   ]
  },
  {
   "cell_type": "markdown",
   "metadata": {},
   "source": [
    "|  |  |  Built-in Functions |  |  |\n",
    "| :---- | :---- | :---- | :---- | :---- |\n",
    "| abs() | delattr() | hash() | memoryview() | set() |\n",
    "| all() | dict() | help() | min() | setattr() |\n",
    "| any() | dir() | hex() | next() | slice() |\n",
    "| ascii() | divmod() | id() | object() | sorted() |\n",
    "| bin() | enumerate() | input() | oct() | staticmethod() |\n",
    "| bool() | eval() | int() | open() | str() |\n",
    "| breakpoint() | exec() | isinstance() | ord() | sum() |\n",
    "| bytearray() | filter() | issubclass() | pow() | super() |\n",
    "| bytes() | float() | iter() | print() | tuple() |\n",
    "| callable() | format() | len() | property() | type() |\n",
    "| chr() | frozenset() | list() | range() | vars() |\n",
    "| classmethod() | getattr() | locals() | repr() | zip() |\n",
    "| compile() | globals() | map() | reversed() | __ import__() |\n",
    "| complex() | hasattr() | max() | round() |\n",
    "|  |  | https://docs.python.org/3/library/functions.html |  |  |"
   ]
  },
  {
   "cell_type": "markdown",
   "metadata": {},
   "source": [
    "`* Python \"input()\" Function`"
   ]
  },
  {
   "cell_type": "code",
   "execution_count": 29,
   "metadata": {},
   "outputs": [
    {
     "name": "stdout",
     "output_type": "stream",
     "text": [
      "What's your name: \n",
      "Sam\n",
      "Hello, Sam\n"
     ]
    }
   ],
   "source": [
    "# Ask for the user's name and print it:\n",
    "\n",
    "print(\"What's your name: \")\n",
    "x = input()\n",
    "print('Hello, ' + x)"
   ]
  },
  {
   "cell_type": "code",
   "execution_count": 30,
   "metadata": {},
   "outputs": [
    {
     "name": "stdout",
     "output_type": "stream",
     "text": [
      "What is your name?: Sam\n",
      "Hello, Sam\n"
     ]
    }
   ],
   "source": [
    "# Use the prompt parameter to write a message before the input:\n",
    "\n",
    "x = input('What is your name?: ')\n",
    "print('Hello, ' + x)"
   ]
  },
  {
   "cell_type": "code",
   "execution_count": 31,
   "metadata": {},
   "outputs": [
    {
     "name": "stdout",
     "output_type": "stream",
     "text": [
      "What's your name? Nain\n",
      "Nice to meet you Nain!\n",
      "Your age? 24\n",
      "So, you are already 24 years old, Nain!\n"
     ]
    }
   ],
   "source": [
    "name = input(\"What's your name? \")\n",
    "print(\"Nice to meet you \" + name + \"!\")\n",
    "age = input(\"Your age? \")\n",
    "print(\"So, you are already \" + str(age) + \" years old, \" + name + \"!\")"
   ]
  },
  {
   "cell_type": "code",
   "execution_count": 32,
   "metadata": {},
   "outputs": [
    {
     "name": "stdout",
     "output_type": "stream",
     "text": [
      "Enter your value: 29\n",
      "29\n"
     ]
    }
   ],
   "source": [
    "val = input(\"Enter your value: \") \n",
    "print(val)"
   ]
  },
  {
   "cell_type": "code",
   "execution_count": 33,
   "metadata": {},
   "outputs": [
    {
     "data": {
      "text/plain": [
       "32"
      ]
     },
     "execution_count": 33,
     "metadata": {},
     "output_type": "execute_result"
    }
   ],
   "source": [
    "# Convert \"val\" to integer to make it a useful value in a math operation:\n",
    "\n",
    "int(val)+3"
   ]
  },
  {
   "cell_type": "markdown",
   "metadata": {},
   "source": [
    "<div class=\"alert alert-block alert-success\">\n",
    "<b>Q1:</b> How do you convert Fahrenheit to Celsius?\n",
    "\n",
    "The temperature T in degrees Celsius (°C) is equal to the temperature T in degrees Fahrenheit (°F) minus 32, \n",
    "times 5/9:<br>\n",
    "T(°C) = (T(°F) - 32) × 5/9\n",
    "</div>"
   ]
  },
  {
   "cell_type": "code",
   "execution_count": 34,
   "metadata": {},
   "outputs": [
    {
     "name": "stdout",
     "output_type": "stream",
     "text": [
      "Enter temp. in Fahrenheit: 273\n",
      "273.0000 Fahrenheit = 133.8889 Degrees Celsius\n"
     ]
    }
   ],
   "source": [
    "fahr = input(\"Enter temp. in Fahrenheit: \")\n",
    "fahr = int(fahr)\n",
    "temp = (fahr - 32)*(5/9)\n",
    "print(\"%0.4f Fahrenheit = %0.4f Degrees Celsius\"%(fahr,temp)) # use \"%s\" instead of \"%0.4f\""
   ]
  },
  {
   "cell_type": "markdown",
   "metadata": {},
   "source": [
    "| Notation | Meaning |\n",
    "| :---------- | :------ |\n",
    "| % xd   | Decimal (integer) value, with (optional) total width $x$. |\n",
    "| % x.yf | Floating Point value, $x$ wide with $y$ decimal places. Note that the output will contain more than $x$ characters if necessary to show $y$ decimal places plus the decimal point. |\n",
    "| % x.ye | Scientific notation, $x$ wide with $y$ decimal places. |\n",
    "| % x.5g | “General” notation: switches between floating point and scientific as appropriate. |\n",
    "| % xs   | String of characters, with (optional) total width $x$. |\n",
    "| +     | A “$+$” character immediately after the % sign will force indication of the sign of the number, even if it is positive. Negative numbers will be indicated, regardless. |"
   ]
  },
  {
   "cell_type": "markdown",
   "metadata": {},
   "source": [
    "<div class=\"alert alert-block alert-success\">\n",
    "<b>Q2:</b> How do you convert Degrees to Radians?\n",
    "\n",
    "Degrees to radians conversion formula\n",
    "One degree is equal 0.01745329252 radians:<br>\n",
    "1° = π/180° = 0.005555556π = 0.01745329252 rad<br>\n",
    "α(radians) = α(degrees) × π / 180°\n",
    "</div>"
   ]
  },
  {
   "cell_type": "code",
   "execution_count": 35,
   "metadata": {},
   "outputs": [
    {
     "name": "stdout",
     "output_type": "stream",
     "text": [
      "Enter angle in degrees: 60\n",
      "60.00000 deg = 1.04762 rads\n"
     ]
    }
   ],
   "source": [
    "deg = input(\"Enter angle in degrees: \")\n",
    "deg = int(deg)\n",
    "rad = deg*((22/7)/180)\n",
    "print(\"%0.5f deg = %0.5f rads\"%(deg,rad))"
   ]
  },
  {
   "cell_type": "markdown",
   "metadata": {},
   "source": [
    "<div class=\"alert alert-block alert-info\">\n",
    "<b>Q3:</b>\n",
    "Write a Python program that asks for sphere radius and calculates surface volume and area of that sphere.\n",
    "\n",
    "NB:<br> (i) In three dimensions, the volume inside a sphere is derived to be \n",
    "    $V = 4/3*π*r^3$ where $r$ is the radius of the sphere. <br> \n",
    "    (ii) The  area of a sphere is $A = 4*π*r^2$\n",
    "</div>"
   ]
  },
  {
   "cell_type": "code",
   "execution_count": 36,
   "metadata": {},
   "outputs": [
    {
     "name": "stdout",
     "output_type": "stream",
     "text": [
      "Enter the sphere radius (mm): 3.25644\n",
      " Volume = 144.65 mm^3 and Area = 133.26 mm^2\n"
     ]
    }
   ],
   "source": [
    "radi = float(input(\"Enter the sphere radius (mm): \"))\n",
    "vol = (4/3)*m.pi*radi**3\n",
    "area = 4*m.pi*radi**2\n",
    "print(\" Volume = %0.5g mm^3 and Area = %0.5g mm^2\"%(vol, area))"
   ]
  },
  {
   "cell_type": "markdown",
   "metadata": {},
   "source": [
    "<div class=\"alert alert-block alert-info\">\n",
    "<b>Q4:</b>\n",
    "Write a program to find gravitational force between two objects.\n",
    "\n",
    "Introduction to Gravitational Force\n",
    "\n",
    "We know that gravity is universal. According to Newton’s Law of Universal Gravitation, all objects attract each other with a force of gravitational attraction. According to this law, the force of gravitational attraction is directly dependent upon the masses of both objects and inversely proportional to the square of the distance that separates their centers. On removing the proportionality sign, we add G, the Universal Gravitational Constant $(G=6.673 \\times 10^{-11})$.\n",
    "\n",
    "Hint:\n",
    "\n",
    "(i) Take input of masses of the body of same unit.\n",
    "\n",
    "(ii) Take input of distance between two bodies.\n",
    "\n",
    "(iii) calculate the gravitational force between them by the expression $(f=G*m1*m2/d*d)$\n",
    "</div>"
   ]
  },
  {
   "cell_type": "code",
   "execution_count": 38,
   "metadata": {},
   "outputs": [
    {
     "name": "stdout",
     "output_type": "stream",
     "text": [
      "Enter mass of body 1 (kg): 12\n",
      "Enter mass of body 2 (kg): 15\n",
      "What's the distance between bodies? (m): 3\n",
      "Gravitational force between = 1.2011e-08 N\n"
     ]
    }
   ],
   "source": [
    "m1 = float(input(\"Enter mass of body 1 (kg): \"))\n",
    "m2 = float(input(\"Enter mass of body 2 (kg): \"))\n",
    "d = float(input(\"What's the distance between bodies? (m): \"))\n",
    "f = 6.673*(10**-11)*m1*(m2/d)*d\n",
    "print(\"Gravitational force between = %0.5g N\"%f)"
   ]
  },
  {
   "cell_type": "markdown",
   "metadata": {},
   "source": [
    "<div class=\"alert alert-block alert-info\">\n",
    "<b>Q5:</b>\n",
    "Write a Python Program to find the area of a triangle given all three sides.\n",
    "\n",
    "The program should take the three sides of a triangle and print the area formed by all three sides.\n",
    "\n",
    "Hint:\n",
    "\n",
    "(i) Take in all the three sides of the triangle and store it in three separate variables.\n",
    "\n",
    "(ii) Then using the Heron’s formula, compute the area of the triangle.\n",
    "\n",
    "(iii) Print the area of the triangle.\n",
    "</div>"
   ]
  },
  {
   "cell_type": "code",
   "execution_count": 51,
   "metadata": {},
   "outputs": [
    {
     "name": "stdout",
     "output_type": "stream",
     "text": [
      "Enter the three sides, space separated (cm): 4 12 15\n",
      "Area of the triangle = 17.662 cm^2\n"
     ]
    }
   ],
   "source": [
    "a, b, c = input(\"Enter the three sides, space separated (cm): \").split()\n",
    "a = float(a); b = float(b); c = float(c)\n",
    "s = (a+b+c)/2\n",
    "area = m.sqrt(s*(s-a)*(s-b)*(s-c))\n",
    "print(\"Area of the triangle = %0.5g cm^2\"%area)"
   ]
  },
  {
   "cell_type": "markdown",
   "metadata": {},
   "source": [
    "More string methods: [ https://www.programiz.com/python-programming/methods/string ]"
   ]
  },
  {
   "cell_type": "markdown",
   "metadata": {},
   "source": [
    "`* Python \"range()\" Function`"
   ]
  },
  {
   "cell_type": "code",
   "execution_count": 52,
   "metadata": {},
   "outputs": [
    {
     "data": {
      "text/plain": [
       "range(0, 5)"
      ]
     },
     "execution_count": 52,
     "metadata": {},
     "output_type": "execute_result"
    }
   ],
   "source": [
    "range(5)"
   ]
  },
  {
   "cell_type": "code",
   "execution_count": 49,
   "metadata": {},
   "outputs": [
    {
     "data": {
      "text/plain": [
       "range(1, 10)"
      ]
     },
     "execution_count": 49,
     "metadata": {},
     "output_type": "execute_result"
    }
   ],
   "source": [
    "range(1,10)"
   ]
  },
  {
   "cell_type": "code",
   "execution_count": 51,
   "metadata": {},
   "outputs": [
    {
     "data": {
      "text/plain": [
       "range(10, 21, 2)"
      ]
     },
     "execution_count": 51,
     "metadata": {},
     "output_type": "execute_result"
    }
   ],
   "source": [
    "range(10,21,2) # # range([start], stop, [step])"
   ]
  },
  {
   "cell_type": "code",
   "execution_count": 53,
   "metadata": {},
   "outputs": [
    {
     "name": "stdout",
     "output_type": "stream",
     "text": [
      "0\n",
      "1\n",
      "2\n",
      "3\n",
      "4\n"
     ]
    }
   ],
   "source": [
    "x=range(5)\n",
    "for num in x:\n",
    "    print(num)"
   ]
  },
  {
   "cell_type": "code",
   "execution_count": 57,
   "metadata": {},
   "outputs": [
    {
     "name": "stdout",
     "output_type": "stream",
     "text": [
      "1\n",
      "2\n",
      "3\n",
      "4\n"
     ]
    }
   ],
   "source": [
    "x=range(1,5)\n",
    "for num in x:\n",
    "    print(num)"
   ]
  },
  {
   "cell_type": "code",
   "execution_count": 60,
   "metadata": {},
   "outputs": [
    {
     "name": "stdout",
     "output_type": "stream",
     "text": [
      "1\n",
      "3\n"
     ]
    }
   ],
   "source": [
    "x=range(1,5,2)\n",
    "for num in x:\n",
    "    print(num)"
   ]
  },
  {
   "cell_type": "code",
   "execution_count": 61,
   "metadata": {},
   "outputs": [
    {
     "name": "stdout",
     "output_type": "stream",
     "text": [
      "0\n",
      "1\n",
      "2\n",
      "3\n",
      "4\n"
     ]
    }
   ],
   "source": [
    "for num in range(5): # Can be used directly\n",
    "    print(num)"
   ]
  },
  {
   "cell_type": "markdown",
   "metadata": {},
   "source": [
    "`* Python \"len()\" Function`"
   ]
  },
  {
   "cell_type": "code",
   "execution_count": 64,
   "metadata": {},
   "outputs": [
    {
     "data": {
      "text/plain": [
       "4"
      ]
     },
     "execution_count": 64,
     "metadata": {},
     "output_type": "execute_result"
    }
   ],
   "source": [
    "n = 'Sam!'\n",
    "len(n)"
   ]
  },
  {
   "cell_type": "code",
   "execution_count": 66,
   "metadata": {},
   "outputs": [
    {
     "data": {
      "text/plain": [
       "'SAM!'"
      ]
     },
     "execution_count": 66,
     "metadata": {},
     "output_type": "execute_result"
    }
   ],
   "source": [
    "n.upper()"
   ]
  },
  {
   "cell_type": "code",
   "execution_count": 68,
   "metadata": {},
   "outputs": [
    {
     "data": {
      "text/plain": [
       "'sam!'"
      ]
     },
     "execution_count": 68,
     "metadata": {},
     "output_type": "execute_result"
    }
   ],
   "source": [
    "n.lower()"
   ]
  },
  {
   "cell_type": "code",
   "execution_count": 70,
   "metadata": {},
   "outputs": [
    {
     "name": "stdout",
     "output_type": "stream",
     "text": [
      "Sam!\n"
     ]
    }
   ],
   "source": [
    "print(n)"
   ]
  },
  {
   "cell_type": "markdown",
   "metadata": {},
   "source": [
    "`* Python \"abs()\" and \"round()\" Functions`"
   ]
  },
  {
   "cell_type": "code",
   "execution_count": 77,
   "metadata": {},
   "outputs": [
    {
     "data": {
      "text/plain": [
       "-0.3333333333333333"
      ]
     },
     "execution_count": 77,
     "metadata": {},
     "output_type": "execute_result"
    }
   ],
   "source": [
    "ar = -2/6\n",
    "ar"
   ]
  },
  {
   "cell_type": "code",
   "execution_count": 78,
   "metadata": {},
   "outputs": [
    {
     "data": {
      "text/plain": [
       "0.3333333333333333"
      ]
     },
     "execution_count": 78,
     "metadata": {},
     "output_type": "execute_result"
    }
   ],
   "source": [
    "abs(ar)"
   ]
  },
  {
   "cell_type": "code",
   "execution_count": 81,
   "metadata": {},
   "outputs": [
    {
     "data": {
      "text/plain": [
       "-0.3333"
      ]
     },
     "execution_count": 81,
     "metadata": {},
     "output_type": "execute_result"
    }
   ],
   "source": [
    "round(ar,4) # round 'ar' to 4 decimals"
   ]
  },
  {
   "cell_type": "markdown",
   "metadata": {},
   "source": [
    "`* Python \"min()\", \"max()\", \"sorted()\", \"sum()\", and \"type()\" Functions`"
   ]
  },
  {
   "cell_type": "code",
   "execution_count": 88,
   "metadata": {},
   "outputs": [],
   "source": [
    "x = (2,5,6,5,3,8)\n",
    "y = ('a','e','g','b','f')"
   ]
  },
  {
   "cell_type": "code",
   "execution_count": 89,
   "metadata": {},
   "outputs": [
    {
     "data": {
      "text/plain": [
       "2"
      ]
     },
     "execution_count": 89,
     "metadata": {},
     "output_type": "execute_result"
    }
   ],
   "source": [
    "min(x)"
   ]
  },
  {
   "cell_type": "code",
   "execution_count": 90,
   "metadata": {},
   "outputs": [
    {
     "data": {
      "text/plain": [
       "'a'"
      ]
     },
     "execution_count": 90,
     "metadata": {},
     "output_type": "execute_result"
    }
   ],
   "source": [
    "min(y)"
   ]
  },
  {
   "cell_type": "code",
   "execution_count": 91,
   "metadata": {},
   "outputs": [
    {
     "data": {
      "text/plain": [
       "[2, 3, 5, 5, 6, 8]"
      ]
     },
     "execution_count": 91,
     "metadata": {},
     "output_type": "execute_result"
    }
   ],
   "source": [
    "sorted(x)"
   ]
  },
  {
   "cell_type": "code",
   "execution_count": 92,
   "metadata": {},
   "outputs": [
    {
     "data": {
      "text/plain": [
       "['a', 'b', 'e', 'f', 'g']"
      ]
     },
     "execution_count": 92,
     "metadata": {},
     "output_type": "execute_result"
    }
   ],
   "source": [
    "sorted(y)"
   ]
  },
  {
   "cell_type": "code",
   "execution_count": 93,
   "metadata": {},
   "outputs": [
    {
     "data": {
      "text/plain": [
       "tuple"
      ]
     },
     "execution_count": 93,
     "metadata": {},
     "output_type": "execute_result"
    }
   ],
   "source": [
    "type(x)"
   ]
  },
  {
   "cell_type": "code",
   "execution_count": 94,
   "metadata": {},
   "outputs": [
    {
     "data": {
      "text/plain": [
       "tuple"
      ]
     },
     "execution_count": 94,
     "metadata": {},
     "output_type": "execute_result"
    }
   ],
   "source": [
    "type(y)"
   ]
  },
  {
   "cell_type": "code",
   "execution_count": 96,
   "metadata": {},
   "outputs": [
    {
     "data": {
      "text/plain": [
       "29"
      ]
     },
     "execution_count": 96,
     "metadata": {},
     "output_type": "execute_result"
    }
   ],
   "source": [
    "sum(x)"
   ]
  },
  {
   "cell_type": "markdown",
   "metadata": {},
   "source": [
    "`2. Making Functions`"
   ]
  },
  {
   "cell_type": "code",
   "execution_count": 52,
   "metadata": {},
   "outputs": [],
   "source": [
    "# Write a function that returns double of the provided number\n",
    "\n",
    "def doubleNumber(n):\n",
    "    return(n*2) # Or n+n\n"
   ]
  },
  {
   "cell_type": "code",
   "execution_count": 53,
   "metadata": {},
   "outputs": [
    {
     "data": {
      "text/plain": [
       "10"
      ]
     },
     "execution_count": 53,
     "metadata": {},
     "output_type": "execute_result"
    }
   ],
   "source": [
    "doubleNumber(5)"
   ]
  },
  {
   "cell_type": "code",
   "execution_count": 58,
   "metadata": {},
   "outputs": [
    {
     "name": "stdout",
     "output_type": "stream",
     "text": [
      "[2, 4, 6, 10, 14]\n"
     ]
    }
   ],
   "source": [
    "# Let us double many numbers!\n",
    "\n",
    "numbers = [1,2,3,5,7] # this is a list\n",
    "doubleNumbers = map(doubleNumber,numbers) # using built-in map()\n",
    "print(list(doubleNumbers))"
   ]
  },
  {
   "cell_type": "code",
   "execution_count": 59,
   "metadata": {},
   "outputs": [
    {
     "name": "stdout",
     "output_type": "stream",
     "text": [
      "Help on function doubleNumber in module __main__:\n",
      "\n",
      "doubleNumber(n)\n",
      "\n"
     ]
    }
   ],
   "source": [
    "help(doubleNumber)"
   ]
  },
  {
   "cell_type": "code",
   "execution_count": 63,
   "metadata": {},
   "outputs": [],
   "source": [
    "def doubleNumber(n):\n",
    "    \"\"\"\n",
    "    This function takes the provided number, n, and multiplies it by a factor of two.\n",
    "    \"\"\"\n",
    "    return(n*2)"
   ]
  },
  {
   "cell_type": "code",
   "execution_count": 64,
   "metadata": {},
   "outputs": [
    {
     "data": {
      "text/plain": [
       "5.0"
      ]
     },
     "execution_count": 64,
     "metadata": {},
     "output_type": "execute_result"
    }
   ],
   "source": [
    "doubleNumber(2.5)"
   ]
  },
  {
   "cell_type": "code",
   "execution_count": 65,
   "metadata": {},
   "outputs": [
    {
     "name": "stdout",
     "output_type": "stream",
     "text": [
      "Help on function doubleNumber in module __main__:\n",
      "\n",
      "doubleNumber(n)\n",
      "    This function takes the provided number, n, and multiplies it by a factor of two.\n",
      "\n"
     ]
    }
   ],
   "source": [
    "help(doubleNumber)"
   ]
  },
  {
   "cell_type": "code",
   "execution_count": 66,
   "metadata": {},
   "outputs": [],
   "source": [
    "def sth():\n",
    "    \"\"\"\n",
    "    This function prints \"something\"\n",
    "    \"\"\"\n",
    "    print(\"something\")"
   ]
  },
  {
   "cell_type": "code",
   "execution_count": 67,
   "metadata": {},
   "outputs": [
    {
     "name": "stdout",
     "output_type": "stream",
     "text": [
      "something\n"
     ]
    }
   ],
   "source": [
    "sth()"
   ]
  },
  {
   "cell_type": "code",
   "execution_count": 68,
   "metadata": {},
   "outputs": [
    {
     "name": "stdout",
     "output_type": "stream",
     "text": [
      "Help on function sth in module __main__:\n",
      "\n",
      "sth()\n",
      "    This function prints \"something\"\n",
      "\n"
     ]
    }
   ],
   "source": [
    "help(sth)"
   ]
  },
  {
   "cell_type": "markdown",
   "metadata": {},
   "source": [
    "<div class=\"alert alert-block alert-info\">\n",
    "<b>Q1:</b>\n",
    "Make a function called 'stringCount' which accepts a string and returns the number of string characters.<br>\n",
    "    Hint:<br>\n",
    "    (i) This function must have a description comment.<br>\n",
    "    (ii) You may use a built-in function like, len()\n",
    "</div>"
   ]
  },
  {
   "cell_type": "code",
   "execution_count": 73,
   "metadata": {},
   "outputs": [],
   "source": [
    "def stringCount(s):\n",
    "    \"\"\"\n",
    "    This function takes the provided string, \"s\", counts the total characters and prints the results to the user.\n",
    "    \"\"\"\n",
    "    strg = str(s); strNo = len(strg)\n",
    "    print(\"String '%s' has %s characters.\"%(strg,strNo))"
   ]
  },
  {
   "cell_type": "code",
   "execution_count": 75,
   "metadata": {},
   "outputs": [
    {
     "name": "stdout",
     "output_type": "stream",
     "text": [
      "Help on function stringCount in module __main__:\n",
      "\n",
      "stringCount(s)\n",
      "    This function takes the provided string, \"s\", counts the total characters and prints the results to the user.\n",
      "\n"
     ]
    }
   ],
   "source": [
    "help(stringCount)"
   ]
  },
  {
   "cell_type": "code",
   "execution_count": 76,
   "metadata": {},
   "outputs": [
    {
     "name": "stdout",
     "output_type": "stream",
     "text": [
      "String 'Sam Sirmaxford' has 14 characters.\n"
     ]
    }
   ],
   "source": [
    "stringCount(\"Sam Sirmaxford\")"
   ]
  },
  {
   "cell_type": "markdown",
   "metadata": {},
   "source": [
    "### Python Iteratives (ways to repeat) <a class=\"anchor\" id=\"topic3\"></a>\n",
    "`Loops | Containers and Sequences | Control Flows`"
   ]
  },
  {
   "cell_type": "markdown",
   "metadata": {},
   "source": [
    "`* Loops`"
   ]
  },
  {
   "cell_type": "markdown",
   "metadata": {},
   "source": [
    "`* Containers and Sequences`"
   ]
  },
  {
   "cell_type": "markdown",
   "metadata": {},
   "source": [
    "`* Control Flows`"
   ]
  },
  {
   "cell_type": "markdown",
   "metadata": {},
   "source": [
    "### Expanding Python <a class=\"anchor\" id=\"topic4\"></a>\n",
    "`Built-in Modules | Numpy | Matplotlib`"
   ]
  },
  {
   "cell_type": "markdown",
   "metadata": {},
   "source": [
    "`* Built-in Modules`"
   ]
  },
  {
   "cell_type": "markdown",
   "metadata": {},
   "source": [
    "`* Numpy`"
   ]
  },
  {
   "cell_type": "markdown",
   "metadata": {},
   "source": [
    "`* Matplotlib`"
   ]
  },
  {
   "cell_type": "markdown",
   "metadata": {},
   "source": [
    "### References <a class=\"anchor\" id=\"topic5\"></a>\n",
    "\n",
    "[1. Computational Physics With Python by Dr. Eric Ayars](http://www.fizika.unios.hr/rf/wp-content/uploads/sites/67/2011/02/CPwP.pdf)<br>\n",
    "[2. Maths with Python Documentation by University of Southampton](https://buildmedia.readthedocs.org/media/pdf/maths-with-python/latest/maths-with-python.pdf)<br>\n",
    "[3. Python3 Tutorial Reference by W3schools](https://www.w3schools.com/python/)<br>\n",
    "[4. Python Tutorials by TutorialsTeacher](https://www.tutorialsteacher.com/python/)<br>\n",
    "[5. Python3 Documentation by Python](https://docs.python.org/3/)"
   ]
  },
  {
   "cell_type": "code",
   "execution_count": null,
   "metadata": {},
   "outputs": [],
   "source": []
  }
 ],
 "metadata": {
  "kernelspec": {
   "display_name": "Python 3",
   "language": "python",
   "name": "python3"
  },
  "language_info": {
   "codemirror_mode": {
    "name": "ipython",
    "version": 3
   },
   "file_extension": ".py",
   "mimetype": "text/x-python",
   "name": "python",
   "nbconvert_exporter": "python",
   "pygments_lexer": "ipython3",
   "version": "3.7.3"
  }
 },
 "nbformat": 4,
 "nbformat_minor": 2
}
